{
 "cells": [
  {
   "cell_type": "code",
   "execution_count": 1,
   "metadata": {},
   "outputs": [],
   "source": [
    "import networkx as nx\n",
    "import pandas as pd\n",
    "import matplotlib.pyplot as plt"
   ]
  },
  {
   "cell_type": "markdown",
   "metadata": {},
   "source": [
    "# Loading data"
   ]
  },
  {
   "cell_type": "code",
   "execution_count": 7,
   "metadata": {},
   "outputs": [],
   "source": [
    "df_pro_contacts_adults = pd.read_csv(\"pro_contacts_adults.csv\", index_col=0)\n",
    "df_pro_contacts_children = pd.read_csv(\"pro_contacts_children.csv\", index_col=0)\n",
    "df_households = pd.read_csv(\"households.csv\", index_col=0)"
   ]
  },
  {
   "cell_type": "markdown",
   "metadata": {},
   "source": [
    "# Initializing the graph\n",
    "\n",
    "We start by defining the classes whose instances will be the nodes of our graph"
   ]
  },
  {
   "cell_type": "code",
   "execution_count": 29,
   "metadata": {},
   "outputs": [],
   "source": [
    "class Person():\n",
    "    def __init__(self, person_id, age):\n",
    "        self.person_id = person_id\n",
    "        self.age = age\n",
    "\n",
    "class Adult(Person):\n",
    "    def __init__(self, person_id, job_cat, pro_contacts, company_id):\n",
    "        super().__init__(person_id, \"adult\")\n",
    "        self.job_cat = job_cat\n",
    "        self.pro_contacts = pro_contacts\n",
    "        self.company_id = company_id\n",
    "\n",
    "class Child(Person):\n",
    "    def __init__(self, person_id, school_contacts, school_id):\n",
    "        super().__init__(person_id, \"child\")\n",
    "        self.job_cat = job_cat\n",
    "        self.school_contacts = school_contacts\n",
    "        self.school_id = school_id\n"
   ]
  },
  {
   "cell_type": "markdown",
   "metadata": {},
   "source": [
    "We create an empty graph into which we add nodes from the pro_contacts dataframes."
   ]
  },
  {
   "cell_type": "code",
   "execution_count": 40,
   "metadata": {},
   "outputs": [],
   "source": [
    "G = nx.Graph()\n",
    "for i, row in df_pro_contacts_adults.iterrows(): \n",
    "    person_id = row.adult_id\n",
    "    job_cat = row.job_cat\n",
    "    pro_contacts = row.pro_contacts\n",
    "    company_id = row.company_id\n",
    "    \n",
    "    adult_node = Adult(person_id, job_cat, pro_contacts, company_id)\n",
    "    G.add_node(adult_node)\n",
    "    \n",
    "for i, row in df_pro_contacts_children.iterrows(): \n",
    "    person_id = row.child_id\n",
    "    school_contacts = row.school_contacts\n",
    "    school_id = row.school_id\n",
    "    \n",
    "    child_node = Child(person_id, school_contacts, school_id)\n",
    "    G.add_node(child_node)"
   ]
  },
  {
   "cell_type": "code",
   "execution_count": null,
   "metadata": {},
   "outputs": [],
   "source": []
  }
 ],
 "metadata": {
  "kernelspec": {
   "display_name": "Python 3",
   "language": "python",
   "name": "python3"
  },
  "language_info": {
   "codemirror_mode": {
    "name": "ipython",
    "version": 3
   },
   "file_extension": ".py",
   "mimetype": "text/x-python",
   "name": "python",
   "nbconvert_exporter": "python",
   "pygments_lexer": "ipython3",
   "version": "3.7.6"
  }
 },
 "nbformat": 4,
 "nbformat_minor": 4
}
