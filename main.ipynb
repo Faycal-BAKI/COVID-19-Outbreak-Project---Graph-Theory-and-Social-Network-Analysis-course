{
 "cells": [
  {
   "cell_type": "code",
   "execution_count": 1,
   "metadata": {},
   "outputs": [],
   "source": [
    "import networkx as nx\n",
    "import pandas as pd\n",
    "import matplotlib.pyplot as plt\n",
    "from itertools import combinations"
   ]
  },
  {
   "cell_type": "markdown",
   "metadata": {},
   "source": [
    "# Loading data"
   ]
  },
  {
   "cell_type": "code",
   "execution_count": 2,
   "metadata": {},
   "outputs": [],
   "source": [
    "df_pro_contacts_adults = pd.read_csv(\"pro_contacts_adults.csv\", index_col=0)\n",
    "df_pro_contacts_children = pd.read_csv(\"pro_contacts_children.csv\", index_col=0)\n",
    "df_households = pd.read_csv(\"households.csv\", index_col=0)"
   ]
  },
  {
   "cell_type": "markdown",
   "metadata": {},
   "source": [
    "# Initializing the graph\n",
    "\n",
    "We start by defining the classes whose instances will be the nodes of our graph"
   ]
  },
  {
   "cell_type": "code",
   "execution_count": 26,
   "metadata": {},
   "outputs": [],
   "source": [
    "class Person():\n",
    "    def __init__(self, person_id, state, age):\n",
    "        self.person_id = person_id\n",
    "        self.age = age\n",
    "        self.state = state\n",
    "    \n",
    "    def __str__(self):\n",
    "        s = \"Person #{}\".format(self.person_id)\n",
    "        return(s)\n",
    "    \n",
    "    def __repr__(self):\n",
    "        s = \"Person #{}\".format(self.person_id)\n",
    "        return(s)\n",
    "\n",
    "class Adult(Person):\n",
    "    def __init__(self, person_id, state, job_cat, pro_contacts, company_id):\n",
    "        super().__init__(person_id, state, \"adult\")\n",
    "        self.job_cat = job_cat\n",
    "        self.pro_contacts = pro_contacts\n",
    "        self.company_id = company_id\n",
    "\n",
    "class Child(Person):\n",
    "    def __init__(self, person_id, state, school_contacts, school_id):\n",
    "        super().__init__(person_id, state, \"child\")\n",
    "        self.job_cat = job_cat\n",
    "        self.school_contacts = school_contacts\n",
    "        self.school_id = school_id"
   ]
  },
  {
   "cell_type": "markdown",
   "metadata": {},
   "source": [
    "We create an empty graph into which we add nodes from the pro_contacts dataframes."
   ]
  },
  {
   "cell_type": "code",
   "execution_count": 42,
   "metadata": {},
   "outputs": [],
   "source": [
    "G = nx.Graph()\n",
    "people = [] # we'll store Person objects here too in order to be able to access them quickly with person_id\n",
    "for i, row in df_pro_contacts_adults.iterrows(): \n",
    "    person_id = row.adult_id\n",
    "    state = \"S\"\n",
    "    job_cat = row.job_cat\n",
    "    pro_contacts = row.pro_contacts\n",
    "    company_id = row.company_id\n",
    "    \n",
    "    adult_node = Adult(person_id, state, job_cat, pro_contacts, company_id)\n",
    "    G.add_node(adult_node)\n",
    "    people.append(adult_node)\n",
    "    \n",
    "for i, row in df_pro_contacts_children.iterrows(): \n",
    "    person_id = row.child_id\n",
    "    state = \"S\"\n",
    "    school_contacts = row.school_contacts\n",
    "    school_id = row.school_id\n",
    "    \n",
    "    child_node = Child(person_id, state, school_contacts, school_id)\n",
    "    G.add_node(child_node)\n",
    "    people.append(child_node)\n",
    "\n",
    "    \n"
   ]
  },
  {
   "cell_type": "markdown",
   "metadata": {},
   "source": [
    "# Creating cliques for households"
   ]
  },
  {
   "cell_type": "code",
   "execution_count": 43,
   "metadata": {},
   "outputs": [],
   "source": [
    "n_households = max(max(df_pro_contacts_children.index), max(df_pro_contacts_adults.index))\n",
    "for id_household in range(n_households):\n",
    "    df_household_adults = df_pro_contacts_adults.loc[df_pro_contacts_adults.index == id_household]\n",
    "    household_adults = df_household_adults.adult_id\n",
    "    \n",
    "    df_household_children = df_pro_contacts_children.loc[df_pro_contacts_children.index == id_household]\n",
    "    household_children = df_household_children.child_id\n",
    "    \n",
    "    household_people_ids = list(household_children) + list(household_adults)\n",
    "    for edge in combinations(household_people_ids, 2):\n",
    "        a = people[edge[0]]\n",
    "        b = people[edge[1]]\n",
    "        G.add_edge(a, b)\n",
    "        G[a][b][\"type\"] = \"household\"\n",
    "        G[a][b][\"id\"] = id_household\n",
    "    \n",
    "    "
   ]
  },
  {
   "cell_type": "markdown",
   "metadata": {},
   "source": [
    "# Creating cliques for companies"
   ]
  },
  {
   "cell_type": "code",
   "execution_count": 62,
   "metadata": {},
   "outputs": [],
   "source": [
    "n_companies = int(max(df_pro_contacts_adults.company_id))\n",
    "for company_id in range(n_companies):\n",
    "    df_company = df_pro_contacts_adults.loc[df_pro_contacts_adults.company_id == company_id]\n",
    "    company_employees_ids = list(df_company.adult_id)\n",
    "    \n",
    "    for edge in combinations(company_employees_ids, 2):\n",
    "        a = people[edge[0]]\n",
    "        b = people[edge[1]]\n",
    "        G.add_edge(a, b)\n",
    "        G[a][b][\"type\"] = \"company\"\n",
    "        G[a][b][\"id\"] = company_id"
   ]
  },
  {
   "cell_type": "code",
   "execution_count": 63,
   "metadata": {},
   "outputs": [
    {
     "data": {
      "text/html": [
       "<div>\n",
       "<style scoped>\n",
       "    .dataframe tbody tr th:only-of-type {\n",
       "        vertical-align: middle;\n",
       "    }\n",
       "\n",
       "    .dataframe tbody tr th {\n",
       "        vertical-align: top;\n",
       "    }\n",
       "\n",
       "    .dataframe thead th {\n",
       "        text-align: right;\n",
       "    }\n",
       "</style>\n",
       "<table border=\"1\" class=\"dataframe\">\n",
       "  <thead>\n",
       "    <tr style=\"text-align: right;\">\n",
       "      <th></th>\n",
       "      <th>adult_id</th>\n",
       "      <th>job_cat</th>\n",
       "      <th>pro_contacts</th>\n",
       "      <th>company_id</th>\n",
       "    </tr>\n",
       "    <tr>\n",
       "      <th>household_id</th>\n",
       "      <th></th>\n",
       "      <th></th>\n",
       "      <th></th>\n",
       "      <th></th>\n",
       "    </tr>\n",
       "  </thead>\n",
       "  <tbody>\n",
       "    <tr>\n",
       "      <th>1087</th>\n",
       "      <td>2699</td>\n",
       "      <td>Services_other</td>\n",
       "      <td>1317</td>\n",
       "      <td>250.0</td>\n",
       "    </tr>\n",
       "    <tr>\n",
       "      <th>1619</th>\n",
       "      <td>4024</td>\n",
       "      <td>Services_other</td>\n",
       "      <td>201</td>\n",
       "      <td>250.0</td>\n",
       "    </tr>\n",
       "    <tr>\n",
       "      <th>2458</th>\n",
       "      <td>5009</td>\n",
       "      <td>Services_other</td>\n",
       "      <td>714</td>\n",
       "      <td>250.0</td>\n",
       "    </tr>\n",
       "  </tbody>\n",
       "</table>\n",
       "</div>"
      ],
      "text/plain": [
       "              adult_id         job_cat  pro_contacts  company_id\n",
       "household_id                                                    \n",
       "1087              2699  Services_other          1317       250.0\n",
       "1619              4024  Services_other           201       250.0\n",
       "2458              5009  Services_other           714       250.0"
      ]
     },
     "execution_count": 63,
     "metadata": {},
     "output_type": "execute_result"
    }
   ],
   "source": [
    "df_company"
   ]
  },
  {
   "cell_type": "markdown",
   "metadata": {},
   "source": [
    "# Adding links for pro life outside the company"
   ]
  },
  {
   "cell_type": "code",
   "execution_count": 54,
   "metadata": {},
   "outputs": [],
   "source": [
    "for i, row in df_pro_contacts_adults.iterrows():\n",
    "    adult_id = row.adult_id\n",
    "    job_cat = row.job_cat\n",
    "    pro_contacts = row.pro_contacts\n",
    "    company_id = row.company_id\n",
    "    \n",
    "    company_employees_ids = list(df_pro_contacts_adults.loc[(df_pro_contacts_adults.company_id == company_id) &\\\n",
    "                                                            (df_pro_contacts_adults.adult_id != adult_id)].adult_id)\n",
    "\n",
    "    #TO DO\n",
    "        \n",
    "for i, row in df_pro_contacts_children.iterrows():\n",
    "    child_id = row.child_id\n",
    "    school_contacts = row.school_contacts\n",
    "    school_id = row.school_id\n",
    "    \n",
    "#     scool_pupils_ids = list(df_pro_contacts_children.loc[(df_pro_contacts_children.school_id == school_id) & (df_pro_contacts_adults.adult_id != adult_id)].adult_id)\n",
    "    # TO DO"
   ]
  },
  {
   "cell_type": "code",
   "execution_count": 57,
   "metadata": {},
   "outputs": [
    {
     "data": {
      "text/html": [
       "<div>\n",
       "<style scoped>\n",
       "    .dataframe tbody tr th:only-of-type {\n",
       "        vertical-align: middle;\n",
       "    }\n",
       "\n",
       "    .dataframe tbody tr th {\n",
       "        vertical-align: top;\n",
       "    }\n",
       "\n",
       "    .dataframe thead th {\n",
       "        text-align: right;\n",
       "    }\n",
       "</style>\n",
       "<table border=\"1\" class=\"dataframe\">\n",
       "  <thead>\n",
       "    <tr style=\"text-align: right;\">\n",
       "      <th></th>\n",
       "      <th>adult_id</th>\n",
       "      <th>job_cat</th>\n",
       "      <th>pro_contacts</th>\n",
       "      <th>company_id</th>\n",
       "    </tr>\n",
       "    <tr>\n",
       "      <th>household_id</th>\n",
       "      <th></th>\n",
       "      <th></th>\n",
       "      <th></th>\n",
       "      <th></th>\n",
       "    </tr>\n",
       "  </thead>\n",
       "  <tbody>\n",
       "    <tr>\n",
       "      <th>506</th>\n",
       "      <td>1245</td>\n",
       "      <td>Shops_other</td>\n",
       "      <td>9</td>\n",
       "      <td>101.0</td>\n",
       "    </tr>\n",
       "    <tr>\n",
       "      <th>745</th>\n",
       "      <td>1829</td>\n",
       "      <td>Services_other</td>\n",
       "      <td>998</td>\n",
       "      <td>101.0</td>\n",
       "    </tr>\n",
       "    <tr>\n",
       "      <th>1844</th>\n",
       "      <td>4395</td>\n",
       "      <td>Shops_other</td>\n",
       "      <td>4</td>\n",
       "      <td>101.0</td>\n",
       "    </tr>\n",
       "    <tr>\n",
       "      <th>3775</th>\n",
       "      <td>6933</td>\n",
       "      <td>Shops_other</td>\n",
       "      <td>13</td>\n",
       "      <td>101.0</td>\n",
       "    </tr>\n",
       "    <tr>\n",
       "      <th>3801</th>\n",
       "      <td>6959</td>\n",
       "      <td>Services_other</td>\n",
       "      <td>870</td>\n",
       "      <td>101.0</td>\n",
       "    </tr>\n",
       "  </tbody>\n",
       "</table>\n",
       "</div>"
      ],
      "text/plain": [
       "              adult_id         job_cat  pro_contacts  company_id\n",
       "household_id                                                    \n",
       "506               1245     Shops_other             9       101.0\n",
       "745               1829  Services_other           998       101.0\n",
       "1844              4395     Shops_other             4       101.0\n",
       "3775              6933     Shops_other            13       101.0\n",
       "3801              6959  Services_other           870       101.0"
      ]
     },
     "execution_count": 57,
     "metadata": {},
     "output_type": "execute_result"
    }
   ],
   "source": [
    "df_pro_contacts_adults.loc[(df_pro_contacts_adults.company_id == company_id)]"
   ]
  },
  {
   "cell_type": "code",
   "execution_count": 50,
   "metadata": {},
   "outputs": [
    {
     "data": {
      "text/plain": [
       "870"
      ]
     },
     "execution_count": 50,
     "metadata": {},
     "output_type": "execute_result"
    }
   ],
   "source": [
    "pro_contacts"
   ]
  },
  {
   "cell_type": "markdown",
   "metadata": {},
   "source": [
    "# Exporting the graph for visualization with Gephi"
   ]
  },
  {
   "cell_type": "code",
   "execution_count": 41,
   "metadata": {},
   "outputs": [],
   "source": [
    "nx.write_gexf(G, \"test.gexf\")"
   ]
  }
 ],
 "metadata": {
  "kernelspec": {
   "display_name": "Python 3",
   "language": "python",
   "name": "python3"
  },
  "language_info": {
   "codemirror_mode": {
    "name": "ipython",
    "version": 3
   },
   "file_extension": ".py",
   "mimetype": "text/x-python",
   "name": "python",
   "nbconvert_exporter": "python",
   "pygments_lexer": "ipython3",
   "version": "3.7.6"
  }
 },
 "nbformat": 4,
 "nbformat_minor": 4
}
