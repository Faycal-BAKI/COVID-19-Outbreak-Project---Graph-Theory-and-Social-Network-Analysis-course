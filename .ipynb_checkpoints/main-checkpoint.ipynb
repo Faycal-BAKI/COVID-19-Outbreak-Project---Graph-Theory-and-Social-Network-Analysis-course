{
 "cells": [
  {
   "cell_type": "code",
   "execution_count": null,
   "metadata": {},
   "outputs": [],
   "source": [
    "import networkx as nx\n",
    "import pandas as pd\n",
    "import matplotlib.pyplot as plt\n",
    "from itertools import combinations"
   ]
  },
  {
   "cell_type": "markdown",
   "metadata": {},
   "source": [
    "# Loading data"
   ]
  },
  {
   "cell_type": "code",
   "execution_count": null,
   "metadata": {},
   "outputs": [],
   "source": [
    "df_pro_contacts_adults = pd.read_csv(\"pro_contacts_adults.csv\", index_col=0)\n",
    "df_pro_contacts_children = pd.read_csv(\"pro_contacts_children.csv\", index_col=0)\n",
    "df_households = pd.read_csv(\"households.csv\", index_col=0)\n",
    "\n",
    "\n",
    "#infos\n",
    "print(df_households.sum())\n",
    "#df_households.describe()\n",
    "#df_pro_contacts_children.describe()\n",
    "#df_pro_contacts_adults.describe()\n",
    "\n",
    "\n"
   ]
  },
  {
   "cell_type": "markdown",
   "metadata": {},
   "source": [
    "# Initializing the graph\n",
    "\n",
    "We start by defining the classes whose instances will be the nodes of our graph"
   ]
  },
  {
   "cell_type": "code",
   "execution_count": null,
   "metadata": {},
   "outputs": [],
   "source": [
    "class Person():\n",
    "    def __init__(self, person_id, state, age):\n",
    "        self.person_id = person_id\n",
    "        self.age = age\n",
    "        self.state = state\n",
    "    def info(self):\n",
    "        infos = \"{} {} {}\".format(self.age,self.person_id, self.state)\n",
    "    \n",
    "    def __str__(self):\n",
    "        s = \"Person #{}\".format(self.person_id)\n",
    "        return(s)\n",
    "    \n",
    "    def __repr__(self):\n",
    "        s = \"Person #{}\".format(self.person_id)\n",
    "        return(s)\n",
    "\n",
    "class Adult(Person):\n",
    "    def __init__(self, person_id, state, job_cat, pro_contacts, company_id):\n",
    "        super().__init__(person_id, state, \"adult\")\n",
    "        self.job_cat = job_cat\n",
    "        self.working = True #will change during confinement\n",
    "        self.pro_contacts = pro_contacts\n",
    "        self.company_id = company_id\n",
    "    def info(self):\n",
    "        infos = \"{} {} {}\".format(self.age,self.person_id, self.state)\n",
    "\n",
    "class Child(Person):\n",
    "    def __init__(self, person_id, state, school_contacts, school_id):\n",
    "        super().__init__(person_id, state, \"child\")\n",
    "        self.job_cat = job_cat\n",
    "        self.school_contacts = school_contacts\n",
    "        self.school_id = school_id\n",
    "    def info(self):\n",
    "        infos = \"{} {} {}\".format(self.age,self.person_id, self.state)"
   ]
  },
  {
   "cell_type": "markdown",
   "metadata": {},
   "source": [
    "We create an empty graph into which we add nodes from the pro_contacts dataframes."
   ]
  },
  {
   "cell_type": "code",
   "execution_count": null,
   "metadata": {},
   "outputs": [],
   "source": [
    "G = nx.Graph()\n",
    "people = [] # we'll store Person objects here too in order to be able to access them quickly with person_id\n",
    "\n",
    "for i, row in df_pro_contacts_adults.iterrows(): #We add adults to the nodes\n",
    "    person_id = row.adult_id\n",
    "    state = \"S\"\n",
    "    job_cat = row.job_cat\n",
    "    pro_contacts = row.pro_contacts\n",
    "    company_id = row.company_id\n",
    "    \n",
    "    adult_node = Adult(person_id, state, job_cat, pro_contacts, company_id)\n",
    "    G.add_node(adult_node)\n",
    "    people.append(adult_node)\n",
    "    \n",
    "for i, row in df_pro_contacts_children.iterrows(): #We add childrens to the nodes\n",
    "    person_id = row.child_id\n",
    "    state = \"S\"\n",
    "    school_contacts = row.school_contacts\n",
    "    school_id = row.school_id\n",
    "    \n",
    "    child_node = Child(person_id, state, school_contacts, school_id)\n",
    "    G.add_node(child_node)\n",
    "    people.append(child_node)\n",
    "\n",
    "    #print(G.nodes())\n",
    "    \n"
   ]
  },
  {
   "cell_type": "markdown",
   "metadata": {},
   "source": [
    "# Creating cliques for households"
   ]
  },
  {
   "cell_type": "code",
   "execution_count": null,
   "metadata": {},
   "outputs": [],
   "source": [
    "n_households = max(max(df_pro_contacts_children.index), max(df_pro_contacts_adults.index))\n",
    "for id_household in range(n_households):\n",
    "    df_household_adults = df_pro_contacts_adults.loc[df_pro_contacts_adults.index == id_household]\n",
    "    household_adults = df_household_adults.adult_id\n",
    "    \n",
    "    df_household_children = df_pro_contacts_children.loc[df_pro_contacts_children.index == id_household]\n",
    "    household_children = df_household_children.child_id\n",
    "    \n",
    "    household_people_ids = list(household_children) + list(household_adults)\n",
    "    for edge in combinations(household_people_ids, 2):\n",
    "        a = people[edge[0]]\n",
    "        b = people[edge[1]]\n",
    "        G.add_edge(a, b)\n",
    "        G[a][b][\"type\"] = \"household\"\n",
    "        G[a][b][\"id\"] = id_household\n",
    "        \n",
    "\n"
   ]
  },
  {
   "cell_type": "code",
   "execution_count": null,
   "metadata": {},
   "outputs": [],
   "source": []
  },
  {
   "cell_type": "code",
   "execution_count": null,
   "metadata": {},
   "outputs": [],
   "source": [
    "if (False):\n",
    "    #pos = nx.spring_layout(G, iterations=20)\n",
    "    nx.draw_networkx_nodes(G,pos,node_size=30 ,alpha =0.3)\n",
    "    nx.draw_networkx_edges(G, pos)\n",
    "    "
   ]
  },
  {
   "cell_type": "markdown",
   "metadata": {},
   "source": [
    "# Creating cliques for companies"
   ]
  },
  {
   "cell_type": "code",
   "execution_count": null,
   "metadata": {},
   "outputs": [],
   "source": [
    "n_companies = int(max(df_pro_contacts_adults.company_id))\n",
    "for company_id in range(n_companies):\n",
    "    df_company = df_pro_contacts_adults.loc[df_pro_contacts_adults.company_id == company_id]\n",
    "    company_employees_ids = list(df_company.adult_id)\n",
    "    \n",
    "    for edge in combinations(company_employees_ids, 2):\n",
    "        a = people[edge[0]]\n",
    "        b = people[edge[1]]\n",
    "        G.add_edge(a, b)\n",
    "        G[a][b][\"type\"] = \"company\"\n",
    "        G[a][b][\"id\"] = company_id"
   ]
  },
  {
   "cell_type": "code",
   "execution_count": null,
   "metadata": {},
   "outputs": [],
   "source": [
    "df_company"
   ]
  },
  {
   "cell_type": "code",
   "execution_count": null,
   "metadata": {},
   "outputs": [],
   "source": [
    "#calcule la position des nodes pour afficher le graph \n",
    "# /!\\ très lent /!\\\n",
    "pos = nx.spring_layout(G, iterations=1)\n",
    "\n",
    "\n"
   ]
  },
  {
   "cell_type": "code",
   "execution_count": null,
   "metadata": {},
   "outputs": [],
   "source": [
    "edge_color = []\n",
    "for edge in G.edges():\n",
    "    #print(edge)\n",
    "    edge = G[edge[0]][edge[1]]\n",
    "    if edge[\"type\"] == \"company\":\n",
    "        edge_color.append(\"b\")\n",
    "    if edge[\"type\"] == \"household\":\n",
    "        edge_color.append(\"r\")\n",
    "    \n",
    "\n",
    "nx.draw_networkx_nodes(G,pos,node_size=10 ,alpha =0.3)\n",
    "nx.draw_networkx_edges(G, pos,edge_color = edge_color)"
   ]
  },
  {
   "cell_type": "markdown",
   "metadata": {},
   "source": [
    "# Adding links for pro life outside the company"
   ]
  },
  {
   "cell_type": "code",
   "execution_count": null,
   "metadata": {},
   "outputs": [],
   "source": [
    "for i, row in df_pro_contacts_adults.iterrows():\n",
    "    adult_id = row.adult_id\n",
    "    job_cat = row.job_cat\n",
    "    pro_contacts = row.pro_contacts\n",
    "    company_id = row.company_id\n",
    "    \n",
    "    company_employees_ids = list(df_pro_contacts_adults.loc[(df_pro_contacts_adults.company_id == company_id) &\\\n",
    "                                                            (df_pro_contacts_adults.adult_id != adult_id)].adult_id)\n",
    "\n",
    "    #TO DO\n",
    "        \n",
    "for i, row in df_pro_contacts_children.iterrows():\n",
    "    child_id = row.child_id\n",
    "    school_contacts = row.school_contacts\n",
    "    school_id = row.school_id\n",
    "    \n",
    "#     scool_pupils_ids = list(df_pro_contacts_children.loc[(df_pro_contacts_children.school_id == school_id) & (df_pro_contacts_adults.adult_id != adult_id)].adult_id)\n",
    "    # TO DO"
   ]
  },
  {
   "cell_type": "code",
   "execution_count": null,
   "metadata": {},
   "outputs": [],
   "source": [
    "df_pro_contacts_adults.loc[(df_pro_contacts_adults.company_id == company_id)]"
   ]
  },
  {
   "cell_type": "code",
   "execution_count": null,
   "metadata": {},
   "outputs": [],
   "source": [
    "pro_contacts"
   ]
  },
  {
   "cell_type": "markdown",
   "metadata": {},
   "source": [
    "# Exporting the graph for visualization with Gephi"
   ]
  },
  {
   "cell_type": "code",
   "execution_count": null,
   "metadata": {},
   "outputs": [],
   "source": [
    "nx.write_gexf(G, \"test.gexf\")"
   ]
  },
  {
   "cell_type": "markdown",
   "metadata": {},
   "source": [
    "# Modeling Coronavirus behaviour without any action taken\n",
    "\n",
    "### illness duration\n",
    "https://www.thelancet.com/journals/lancet/article/PIIS0140-6736(20)30566-3/fulltext#seccestitle150 in this paper we see that in average an infected personne has symptomes for 20 days (worst and best being 8 days and 37 days). This is more or less independent of the fact that the individual recovers or die after thos 20 days. I will thus use this to calculate the half-life of the infected state. \n",
    "\n",
    "### infection probability\n",
    "the R0 is given at 2.5. we calculate the probability of infecting a neighbor node using this and the mean duration of the infected state of 20 days. \n",
    "\n",
    "\n"
   ]
  },
  {
   "cell_type": "code",
   "execution_count": null,
   "metadata": {},
   "outputs": [],
   "source": [
    "import numpy as np\n",
    "# infected state duration and evolution\n",
    "mean_sickness_duration = 20\n",
    "half_life = mean_sickness_duration * np.log(2) \n",
    "daily_proba_change = 1 - (1/2)**(1/half_life) \n",
    "\n",
    "child_mortality = 0.002\n",
    "adult_mortality = 0.02\n",
    "\n",
    "child_recovery = 1- child_mortality\n",
    "adult_recovery = 1- adult_mortality\n",
    "\n",
    "mean_degree = len(G.edges) * 2 /len(G.nodes)\n",
    "print(mean_degree)\n",
    "\n",
    "#infection probability for each link daily\n",
    "R0 = 2.5 \n",
    "daily_infection_proba = R0 / mean_sickness_duration\n"
   ]
  },
  {
   "cell_type": "markdown",
   "metadata": {},
   "source": [
    "#  Economic impact\n",
    "\n",
    "We gauge economic impact by counting the number of people who cannot work daily \n",
    "pondered by the importance of their activity sector. We choose to follow this communiqué to get the sectors importance https://moodle.imt-atlantique.fr/mod/url/view.php?id=18312\n",
    "\n",
    "We choose the crutial categories like Health and food whitch cannot be in lockdown.\n",
    "For the others we use the estimate of how much remote work is possible.\n",
    "\n",
    "All classes have a PIB weight value. It represents how much its function contribute to the PIB. \n"
   ]
  },
  {
   "cell_type": "code",
   "execution_count": null,
   "metadata": {},
   "outputs": [],
   "source": [
    "#df_pro_contacts_adults.groupby(\"job_cat\").mean()\n"
   ]
  },
  {
   "cell_type": "code",
   "execution_count": null,
   "metadata": {},
   "outputs": [],
   "source": [
    "\n",
    "class Job_category():\n",
    "    \n",
    "    def __init__(self,job_cat, category,remote_work_possibility, remote_work, PIB_weight):\n",
    "        self.job_cat = job_cat # name in the dataframe\n",
    "        self.category =category #equivalent in the communiqué\n",
    "        self.remote_work_possibility = remote_work_possibility #false for health and agriculture\n",
    "        self.remote_work = remote_work #percentage of remote work efficiency \n",
    "        self.PIB_weight = PIB_weight #found in the communiqué\n",
    "\n",
    "\n",
    "job_info = dict()\n",
    "job_info['Administration_schools'] = Job_category(job_cat = 'Administration_schools',\n",
    "                                                  category = 'Services non marchands',\n",
    "                                                  remote_work_possibility = True,\n",
    "                                                  remote_work = 1 - 0.14,\n",
    "                                                  PIB_weight = 0.22)\n",
    "\n",
    "job_info['Agriculture_fishing'] = Job_category(job_cat = 'Agriculture_fishing',\n",
    "                                                  category = 'Services non marchands',\n",
    "                                                  remote_work_possibility = False,\n",
    "                                                  remote_work = 1 - 0.98,\n",
    "                                                  PIB_weight = 0.04)\n",
    "\n",
    "job_info['Construction'] = Job_category(job_cat = 'Construction',\n",
    "                                                  category = 'Construction non marchands',\n",
    "                                                  remote_work_possibility = True,\n",
    "                                                  remote_work = 1 - 0.89,\n",
    "                                                  PIB_weight = 0.06)\n",
    "\n",
    "job_info['Health'] = Job_category(job_cat = 'Health',\n",
    "                                                  category = 'Health',\n",
    "                                                  remote_work_possibility = False,\n",
    "                                                  remote_work = 1 - 0.5,\n",
    "                                                  PIB_weight = 0.22)\n",
    "\n",
    "job_info['Hotel_Restaurant'] = Job_category(job_cat = 'Hotel_Restaurant',\n",
    "                                                  category = 'Services marchands',\n",
    "                                                  remote_work_possibility = True,\n",
    "                                                  remote_work = 1 - 0.98,\n",
    "                                                  PIB_weight = 0.56)\n",
    "\n",
    "job_info['Indus_food'] = Job_category(job_cat = 'Indus_food',\n",
    "                                                  category = 'Agriculture et industries agro-alimentaires',\n",
    "                                                  remote_work_possibility = False,\n",
    "                                                  remote_work = 1 - 0.80,\n",
    "                                                  PIB_weight = 0.04)\n",
    "job_info['Indus_other'] = Job_category(job_cat = 'Indus_other',\n",
    "                                                  category = 'Industrie hors agro-alimentaire',\n",
    "                                                  remote_work_possibility = True,\n",
    "                                                  remote_work = 1 - 0.52,\n",
    "                                                  PIB_weight = 0.12)\n",
    "\n",
    "job_info['Services_other'] = Job_category(job_cat = 'Services_other',\n",
    "                                                  category = 'Services non marchands',\n",
    "                                                  remote_work_possibility = True,\n",
    "                                                  remote_work = 1 - 0.14,\n",
    "                                                  PIB_weight = 0.22)\n",
    "\n",
    "job_info['Shops_market_food'] = Job_category(job_cat = 'Shops_market_food',\n",
    "                                                  category = 'Agriculture et industries agro-alimentaires',\n",
    "                                                  remote_work_possibility = False,\n",
    "                                                  remote_work = 1 - 0.98,\n",
    "                                                  PIB_weight = 0.04)\n",
    "job_info['Shops_other'] = Job_category(job_cat = 'Shops_other',\n",
    "                                                  category = 'Services marchands',\n",
    "                                                  remote_work_possibility = True,\n",
    "                                                  remote_work = 1 - 0.36,\n",
    "                                                  PIB_weight = 0.56)\n",
    "job_info['Transportation'] = Job_category(job_cat = 'Transportation',\n",
    "                                                  category = 'Transportation',\n",
    "                                                  remote_work_possibility = False,\n",
    "                                                  remote_work = 1 - 0.36,\n",
    "                                                  PIB_weight = 0.56)\n"
   ]
  },
  {
   "cell_type": "code",
   "execution_count": null,
   "metadata": {},
   "outputs": [],
   "source": [
    "\"\"\"model 1 SIR with permanent recovery nobody change their habits. \n",
    "\"\"\"\n",
    "import random \n",
    "\n",
    "\n",
    "class Basic_SIR_Model():\n",
    "    \n",
    "    def __init__(self,G):\n",
    "        import random\n",
    "        self.G = G # This model's graph\n",
    "        \n",
    "        self.states =[\"S\" #sane\n",
    "                ,\"I\" #infected\n",
    "                ,\"D\" #dead\n",
    "                ,\"R\"] #recovered\n",
    "        \n",
    "        #infetion probabilities are for each interactions everydays \n",
    "        #death and recovery proba are for one day\n",
    "        mean_degree = len(self.G.edges) * 2 /len(self.G.nodes)\n",
    "        daily_link_infection_proba = daily_infection_proba / mean_degree # this gives R0 = 2.5\n",
    "        \n",
    "        self.infection_probas=dict() #probability of infection dependeing on the type of the interaction\n",
    "        self.infection_probas['company']= daily_link_infection_proba\n",
    "        self.infection_probas[\"household\"]= daily_link_infection_proba * 1.5 \n",
    "        # because you spend more time with your family\n",
    "        \n",
    "        self.death_proba=dict() #daily proba of death if infected\n",
    "        self.death_proba[\"adult\"]= daily_proba_change * adult_mortality\n",
    "        self.death_proba[\"child\"]= daily_proba_change * child_mortality\n",
    "\n",
    "        self.recovery_proba=dict() #daily proba of recovery if infected\n",
    "        self.recovery_proba[\"adult\"]= daily_proba_change * adult_recovery\n",
    "        self.recovery_proba[\"child\"]= daily_proba_change * child_recovery\n",
    "\n",
    "        #TODO add a self.data = dict to get statistics \n",
    "\n",
    "    def initialize_patients_zero(self, number_of_first_cases = 1):\n",
    "        for node in list(self.G.nodes()): # everybody is sane at the begining \n",
    "            node.state = \"S\"\n",
    "            if type(node) == Adult:\n",
    "                node.working = True #at beginning all adults work\n",
    "        print('first infected are:') \n",
    "        for random_pick in random.sample(list(self.G.nodes()), number_of_first_cases): \n",
    "            print(random_pick)\n",
    "            random_pick.state = \"I\"\n",
    "\n",
    "    def interaction(self,interaction_type): # return true if there is an infection\n",
    "        return ( random.random()<=self.infection_probas[interaction_type])\n",
    "\n",
    "    def sickness_evolution(self,age): # return state of the infected at the end of the day\n",
    "        r = random.random()\n",
    "        if r <= self.death_proba[age]:\n",
    "            return \"D\"\n",
    "        if r<= self.recovery_proba[age]:\n",
    "            return \"R\"\n",
    "        else:\n",
    "            return \"I\"\n",
    "\n",
    "    def one_normal_day_passes(self): #update all the graph \n",
    "        print(\"today everybody went to work as usual.\")\n",
    "        changing_state = dict()\n",
    "        for state in self.states:\n",
    "            changing_state[state]= []\n",
    "\n",
    "        for node in list(self.G.nodes()):\n",
    "            if node.state == \"I\":  \n",
    "                #we try each possible infection\n",
    "                for neig in self.G[node]: \n",
    "                    if neig.state == \"S\":\n",
    "                        t = self.G[node][neig]['type']\n",
    "                        if self.interaction(t):\n",
    "                            changing_state[\"I\"].append(neig) #new infected :'(         \n",
    "                #we check if the condition of the sick change (death recovery or no change)\n",
    "                new_state = self.sickness_evolution(node.age) \n",
    "                if new_state != node.state : \n",
    "                    changing_state[new_state].append(node)                    \n",
    "\n",
    "        for state in self.states: #update all the nodes states at once after all the interactions\n",
    "            for node in changing_state[state]:\n",
    "                node.state = state\n",
    "                #for now sick people work because this scenario is low-key distopian\n",
    "                if(state == \"D\" and type(node) == Adult): \n",
    "                    node.working = False #dead people don't work :'(\n",
    "                    \n",
    "                \n",
    "                \n",
    "        #basic visualisation    kinda bad        \n",
    "        for state in self.states:\n",
    "            total =len([nd for nd in list(self.G.nodes) if nd.state == state ])\n",
    "            print(state,' Total ',total, ' new',len(changing_state[state]),\" today\") \n",
    "    \n",
    "    def basic_scenario(self): \n",
    "        self.initialize_patients_zero(number_of_first_cases=5)\n",
    "        for i in range(365):\n",
    "            self.one_normal_day_passes()\n"
   ]
  },
  {
   "cell_type": "code",
   "execution_count": null,
   "metadata": {},
   "outputs": [],
   "source": [
    "#We put 5 infected in a untouched country which take no counter-mesure for a year\n",
    "m = Basic_SIR_Model(G)\n",
    "m.basic_scenario()"
   ]
  },
  {
   "cell_type": "markdown",
   "metadata": {},
   "source": [
    "## Basic counter-mesure\n",
    "\n",
    "first I try something very basic and cruel: killing every infected I find. \n",
    "I suppose that the state take action once 200 people are infected. (time to discover there existence)\n",
    "I suppose they can test everybody but with a technology that is not very reliable 0.3 chance to discover the virus and no false positive.\n",
    "The results are not great at all, the virus still spreads but is now indirectly way worst"
   ]
  },
  {
   "cell_type": "code",
   "execution_count": null,
   "metadata": {},
   "outputs": [],
   "source": [
    "# we try to kill every infected once we discover them\n",
    "class North_Korea(Basic_SIR_Model):\n",
    "    def __init__(self,G):\n",
    "        super().__init__(G)\n",
    "        self.execution_proba = 0.3 #chance to be caught and executed if you are sick during a search\n",
    "    \n",
    "    def search(self):\n",
    "        nb_killed = 0\n",
    "        for node in list(self.G.nodes()):\n",
    "            if(node.state == \"I\"): \n",
    "                r = random.random()\n",
    "                if r < self.execution_proba: #we try to kill the infected quickly\n",
    "                    node.state = \"D\"\n",
    "                    nb_killed +=1\n",
    "        print(nb_killed,\" killed during search\")\n",
    "    \n",
    "    def basic_scenario(self): \n",
    "        self.initialize_patients_zero(number_of_first_cases=5)\n",
    "        for i in range(365):\n",
    "            self.one_normal_day_passes()\n",
    "            nb_infected = len([nd for nd in list(self.G.nodes) if nd.state == \"I\" ])   \n",
    "            if nb_infected > 200 :\n",
    "                m.search()\n",
    "m = North_Korea(G)\n",
    "m.basic_scenario()\n",
    "\"\"\"m = North_Korea(G)\n",
    "m.initialize_patients_zero(number_of_first_cases=5)\n",
    "for i in range(365):\n",
    "    m.one_normal_day_passes()\n",
    "    \n",
    "    nb_infected = len([nd for nd in list(m.G.nodes) if nd.state == \"I\" ])   \n",
    "    if nb_infected > 200 :\n",
    "        m.search()\n",
    "\"\"\"    \n",
    "\n",
    "        \n",
    "        "
   ]
  },
  {
   "cell_type": "code",
   "execution_count": null,
   "metadata": {},
   "outputs": [],
   "source": []
  }
 ],
 "metadata": {
  "kernelspec": {
   "display_name": "Python 3",
   "language": "python",
   "name": "python3"
  },
  "language_info": {
   "codemirror_mode": {
    "name": "ipython",
    "version": 3
   },
   "file_extension": ".py",
   "mimetype": "text/x-python",
   "name": "python",
   "nbconvert_exporter": "python",
   "pygments_lexer": "ipython3",
   "version": "3.7.4"
  }
 },
 "nbformat": 4,
 "nbformat_minor": 4
}
